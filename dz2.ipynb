{
 "cells": [
  {
   "cell_type": "code",
   "execution_count": 173,
   "id": "afa027d6-d2ef-48d0-b51c-e81c4a8d5e33",
   "metadata": {},
   "outputs": [
    {
     "ename": "SyntaxError",
     "evalue": "incomplete input (3537444213.py, line 1)",
     "output_type": "error",
     "traceback": [
      "\u001b[0;36m  Cell \u001b[0;32mIn[173], line 1\u001b[0;36m\u001b[0m\n\u001b[0;31m    \"\"\"Задание\u001b[0m\n\u001b[0m    ^\u001b[0m\n\u001b[0;31mSyntaxError\u001b[0m\u001b[0;31m:\u001b[0m incomplete input\n"
     ]
    }
   ],
   "source": [
    "\"\"\"Задание\n",
    "\n",
    "Написать код на Python в среде Jupyter Notebook для решения следующей задачи.\n",
    "\n",
    "Вам нужно помочь секретарю автоматизировать работу. Для этого нужно написать программу, которая будет на основе хранимых данных исполнять пользовательские команды.\n",
    "\n",
    "Исходные данные имеют следующую структуру:\n",
    "\n",
    "1. перечень всех документов\n",
    "\n",
    "documents = [\n",
    "{‘type’: ‘passport’, ‘number’: ‘2207 876234’, ‘name’: ‘Василий Гупкин’},\n",
    "{‘type’: ‘invoice’, ‘number’: ‘11-2’, ‘name’: ‘Геннадий Покемонов’},\n",
    "{‘type’: ‘insurance’, ‘number’: ‘10006’, ‘name’: ‘Аристарх Павлов’}\n",
    "]\n",
    "2. перечень полок, на которых хранятся документы (если документ есть в documents, \n",
    "он обязательно должен быть и в directories)\n",
    "\n",
    "directories = {\n",
    "‘1’: [‘2207 876234’, ‘11-2’],\n",
    "‘2’: [‘10006’],\n",
    "‘3’: []\n",
    "}\n",
    "\n",
    "Общие требования к программе:\n",
    "\n",
    "● код должен быть грамотно декомпозирован: каждая функция отвечает за свою конкретную \n",
    "задачу, дублирующиеся функции переиспользуются, а их код не повторяется;\n",
    "● в коде отсутствуют глобальные переменные, за исключением documents и directories;\n",
    "● пользовательский ввод обрабатывается в цикле while до тех пор, пока пользователь \n",
    "явно не завершит программу вводом команды «q».\n",
    "Задание 1\n",
    "Пользователь по команде «p» может узнать владельца документа по его номеру.\n",
    "\n",
    "Пример работы программы:\n",
    "\n",
    "Введите команду:\n",
    "p\n",
    "\n",
    "Введите номер документа:\n",
    "10006\n",
    "\n",
    "Результат:\n",
    "Владелец документа: Аристарх Павлов\n"
   ]
  },
  {
   "cell_type": "code",
   "execution_count": 54,
   "id": "f6fc9dce-c49c-4698-80bf-0c16b40510cf",
   "metadata": {},
   "outputs": [],
   "source": [
    "# Перечень всех документов\n",
    "documents = [\n",
    "    {'type': 'passport', 'number': '2207 876234', 'name': 'Василий Гупкин'},\n",
    "    {'type': 'invoice', 'number': '11-2', 'name': 'Геннадий Покемонов'},\n",
    "    {'type': 'insurance', 'number': '10006', 'name': 'Аристарх Павлов'}\n",
    "]\n",
    "# перечень полок, на которых хранятся документы\n",
    "directories = {\n",
    "    '1': ['2207 876234', '11-2'],\n",
    "    '2': ['10006'],\n",
    "    '3': []\n",
    "}\n",
    "\n"
   ]
  },
  {
   "cell_type": "code",
   "execution_count": 175,
   "id": "199fe102-53b8-4a5d-b985-74ec350ed741",
   "metadata": {},
   "outputs": [],
   "source": [
    "def doc_owner_name(doc_number):\n",
    "    '''функция возвращает имя по номеру документа и проверяет его наличие  в директории'''\n",
    "    is_in_directory = any(doc_number in doc_list for doc_list in directories.values())\n",
    "    if not is_in_directory:\n",
    "        return \"Документ не найден в директориях.\"\n",
    "        \n",
    "    for doc in documents:\n",
    "        # print(doc['number'])\n",
    "        if doc_number == doc['number']:\n",
    "            return doc['name']\n",
    "    return \"Документ с таким номером не найден.\""
   ]
  },
  {
   "cell_type": "code",
   "execution_count": 159,
   "id": "0bf04b97-70af-4f19-bd62-8dcd6353bb82",
   "metadata": {},
   "outputs": [
    {
     "data": {
      "text/plain": [
       "'Василий Гупкин'"
      ]
     },
     "execution_count": 159,
     "metadata": {},
     "output_type": "execute_result"
    }
   ],
   "source": [
    "doc_owner_name('2207 8762')"
   ]
  },
  {
   "cell_type": "code",
   "execution_count": 169,
   "id": "621ea5aa-d11a-406f-a31f-ef8ad4933cee",
   "metadata": {},
   "outputs": [],
   "source": [
    "def command_place():\n",
    "    while True:\n",
    "        command = input(\"Введите команду: \")\n",
    "        #return command\n",
    "        if command == \"p\":\n",
    "            doc_number = input(\"Введите номер документа: \")\n",
    "            owner = doc_owner_name(doc_number)\n",
    "            #print(owner)\n",
    "            #break\n",
    "            if owner:\n",
    "                    print(f\"Владелец документа: {owner}\")\n",
    "        elif command == 'q':\n",
    "            print(\"end\")\n",
    "            break\n",
    "        else:\n",
    "            print(\"Неизвестная команда. Попробуйте снова.\")"
   ]
  },
  {
   "cell_type": "code",
   "execution_count": 177,
   "id": "9fd1c430-d6b1-480d-811b-d46d1088d9b9",
   "metadata": {},
   "outputs": [
    {
     "name": "stdin",
     "output_type": "stream",
     "text": [
      "Введите команду:  p\n",
      "Введите номер документа:  10006\n"
     ]
    },
    {
     "name": "stdout",
     "output_type": "stream",
     "text": [
      "Владелец документа: Аристарх Павлов\n"
     ]
    },
    {
     "name": "stdin",
     "output_type": "stream",
     "text": [
      "Введите команду:  q\n"
     ]
    },
    {
     "name": "stdout",
     "output_type": "stream",
     "text": [
      "end\n"
     ]
    }
   ],
   "source": [
    "result = command_place()"
   ]
  },
  {
   "cell_type": "code",
   "execution_count": null,
   "id": "33c35016-dabe-493c-8b05-961791d0588a",
   "metadata": {},
   "outputs": [
    {
     "name": "stdin",
     "output_type": "stream",
     "text": [
      "Введите команду:  p\n",
      "Введите номер документа:  1007\n"
     ]
    },
    {
     "name": "stdout",
     "output_type": "stream",
     "text": [
      "Владелец документа: Документ не найден в директориях.\n"
     ]
    }
   ],
   "source": [
    "result = command_place()"
   ]
  },
  {
   "cell_type": "code",
   "execution_count": null,
   "id": "c86a5a3d-b6d5-4d06-8790-c1e4b12ee46d",
   "metadata": {},
   "outputs": [],
   "source": []
  }
 ],
 "metadata": {
  "kernelspec": {
   "display_name": "Python 3 (ipykernel)",
   "language": "python",
   "name": "python3"
  },
  "language_info": {
   "codemirror_mode": {
    "name": "ipython",
    "version": 3
   },
   "file_extension": ".py",
   "mimetype": "text/x-python",
   "name": "python",
   "nbconvert_exporter": "python",
   "pygments_lexer": "ipython3",
   "version": "3.12.4"
  }
 },
 "nbformat": 4,
 "nbformat_minor": 5
}
