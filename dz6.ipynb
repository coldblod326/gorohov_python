{
 "cells": [
  {
   "cell_type": "code",
   "execution_count": 6,
   "id": "9cbf8d4e-12f1-43c4-8ce4-c09829641d15",
   "metadata": {},
   "outputs": [
    {
     "name": "stdout",
     "output_type": "stream",
     "text": [
      "Валюта с максимальным курсом: Фунт стерлингов Соединенного королевства\n"
     ]
    }
   ],
   "source": [
    "import requests\n",
    "import json\n",
    "\n",
    "url = \"https://www.cbr-xml-daily.ru/daily_json.js\"\n",
    "response = requests.get(url)\n",
    "data = response.json()\n",
    "\n",
    "max_rate = 0\n",
    "currency_name = \"\"\n",
    "\n",
    "for currency in data['Valute'].values():\n",
    "    if currency['Name'] == \"СДР (специальные права заимствования)\":\n",
    "        continue \n",
    "    if currency['Value'] > max_rate:\n",
    "        max_rate = currency['Value']\n",
    "        currency_name = currency['Name']\n",
    "\n",
    "\n",
    "print(f\"Валюта с максимальным курсом: {currency_name}\")"
   ]
  },
  {
   "cell_type": "code",
   "execution_count": null,
   "id": "6df83bee-5259-4920-82f2-3db0891e948d",
   "metadata": {},
   "outputs": [],
   "source": []
  }
 ],
 "metadata": {
  "kernelspec": {
   "display_name": "Python 3 (ipykernel)",
   "language": "python",
   "name": "python3"
  },
  "language_info": {
   "codemirror_mode": {
    "name": "ipython",
    "version": 3
   },
   "file_extension": ".py",
   "mimetype": "text/x-python",
   "name": "python",
   "nbconvert_exporter": "python",
   "pygments_lexer": "ipython3",
   "version": "3.12.4"
  }
 },
 "nbformat": 4,
 "nbformat_minor": 5
}
