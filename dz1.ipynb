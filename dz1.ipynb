{
 "cells": [
  {
   "cell_type": "code",
   "execution_count": 11,
   "id": "827f781e-9168-4fdd-b1f4-9decaed7d796",
   "metadata": {},
   "outputs": [
    {
     "ename": "NameError",
     "evalue": "name 'values' is not defined",
     "output_type": "error",
     "traceback": [
      "\u001b[0;31m---------------------------------------------------------------------------\u001b[0m",
      "\u001b[0;31mNameError\u001b[0m                                 Traceback (most recent call last)",
      "Cell \u001b[0;32mIn[11], line 5\u001b[0m\n\u001b[1;32m      1\u001b[0m ids \u001b[38;5;241m=\u001b[39m {\u001b[38;5;124m'\u001b[39m\u001b[38;5;124muser1\u001b[39m\u001b[38;5;124m'\u001b[39m: [\u001b[38;5;241m213\u001b[39m, \u001b[38;5;241m213\u001b[39m, \u001b[38;5;241m213\u001b[39m, \u001b[38;5;241m15\u001b[39m, \u001b[38;5;241m213\u001b[39m], \n\u001b[1;32m      2\u001b[0m        \u001b[38;5;124m'\u001b[39m\u001b[38;5;124muser2\u001b[39m\u001b[38;5;124m'\u001b[39m: [\u001b[38;5;241m54\u001b[39m, \u001b[38;5;241m54\u001b[39m, \u001b[38;5;241m119\u001b[39m, \u001b[38;5;241m119\u001b[39m, \u001b[38;5;241m119\u001b[39m], \n\u001b[1;32m      3\u001b[0m        \u001b[38;5;124m'\u001b[39m\u001b[38;5;124muser3\u001b[39m\u001b[38;5;124m'\u001b[39m: [\u001b[38;5;241m213\u001b[39m, \u001b[38;5;241m98\u001b[39m, \u001b[38;5;241m98\u001b[39m, \u001b[38;5;241m35\u001b[39m]}\n\u001b[1;32m      4\u001b[0m \u001b[38;5;28;01mfor\u001b[39;00m  value \u001b[38;5;129;01min\u001b[39;00m ids\u001b[38;5;241m.\u001b[39mitems():\n\u001b[0;32m----> 5\u001b[0m     \u001b[38;5;28mprint\u001b[39m(values)\n",
      "\u001b[0;31mNameError\u001b[0m: name 'values' is not defined"
     ]
    }
   ],
   "source": [
    "ids = {'user1': [213, 213, 213, 15, 213], \n",
    "       'user2': [54, 54, 119, 119, 119], \n",
    "       'user3': [213, 98, 98, 35]}\n",
    "for  value in ids.items():\n",
    "    print(values)"
   ]
  },
  {
   "cell_type": "code",
   "execution_count": 15,
   "id": "153d9d26-1911-457f-806d-86912cbb6aeb",
   "metadata": {},
   "outputs": [
    {
     "name": "stdout",
     "output_type": "stream",
     "text": [
      "[213, 213, 213, 15, 213]\n",
      "[54, 54, 119, 119, 119]\n",
      "[213, 98, 98, 35]\n"
     ]
    }
   ],
   "source": [
    "for  value in ids.items():\n",
    "    print(value)"
   ]
  },
  {
   "cell_type": "code",
   "execution_count": 29,
   "id": "48b2c185-d128-48ed-8864-e14109baa3aa",
   "metadata": {},
   "outputs": [
    {
     "name": "stdout",
     "output_type": "stream",
     "text": [
      "user1 [213, 213, 213, 15, 213]\n",
      "user2 [54, 54, 119, 119, 119]\n",
      "user3 [213, 98, 98, 35]\n"
     ]
    }
   ],
   "source": [
    "for  key, value in ids.items():\n",
    "    print(key, value)"
   ]
  },
  {
   "cell_type": "code",
   "execution_count": 31,
   "id": "623ddf91-c788-4e62-b8bd-36fa247cc9e0",
   "metadata": {},
   "outputs": [
    {
     "ename": "SyntaxError",
     "evalue": "expected ':' (258849935.py, line 2)",
     "output_type": "error",
     "traceback": [
      "\u001b[0;36m  Cell \u001b[0;32mIn[31], line 2\u001b[0;36m\u001b[0m\n\u001b[0;31m    if ids[i]\u001b[0m\n\u001b[0m             ^\u001b[0m\n\u001b[0;31mSyntaxError\u001b[0m\u001b[0;31m:\u001b[0m expected ':'\n"
     ]
    }
   ],
   "source": [
    "for i in ids:\n",
    "    if ids[i]\n",
    "    print(ids[i])"
   ]
  },
  {
   "cell_type": "code",
   "execution_count": 55,
   "id": "316c25a9-e755-4d3e-ab8c-d69e621333a6",
   "metadata": {},
   "outputs": [
    {
     "name": "stdout",
     "output_type": "stream",
     "text": [
      "Результат: {98, 35, 15, 213, 54, 119}\n"
     ]
    }
   ],
   "source": [
    "unic = set()\n",
    "for key, value in ids.items():\n",
    "    unic.update(value)\n",
    "\n",
    "print(\"Результат:\", unic)"
   ]
  },
  {
   "cell_type": "code",
   "execution_count": 77,
   "id": "da1b8929-ee86-4a93-aad8-1d417dd075c0",
   "metadata": {},
   "outputs": [
    {
     "name": "stdout",
     "output_type": "stream",
     "text": [
      "3\n"
     ]
    }
   ],
   "source": [
    "queries = [\n",
    "    'смотреть сериалы онлайн',\n",
    "    'новости спорта',\n",
    "    'афиша кино',\n",
    "    'курс доллара',\n",
    "    'сериалы этим летом',\n",
    "    'курс по питону',\n",
    "    'сериалы про спорт',\n",
    "]\n",
    "q = queries[0]\n",
    "print(len(q.split()))\n"
   ]
  },
  {
   "cell_type": "code",
   "execution_count": 63,
   "id": "8251877a-b789-44c3-8e92-685175fc7e27",
   "metadata": {},
   "outputs": [
    {
     "data": {
      "text/plain": [
       "'смотреть сериалы онлайн'"
      ]
     },
     "execution_count": 63,
     "metadata": {},
     "output_type": "execute_result"
    }
   ],
   "source": [
    "queries[0]\n"
   ]
  },
  {
   "cell_type": "code",
   "execution_count": 83,
   "id": "91adcd68-1853-4aa5-bfef-4b9106770f28",
   "metadata": {},
   "outputs": [
    {
     "name": "stdout",
     "output_type": "stream",
     "text": [
      "3\n",
      "2\n",
      "2\n",
      "2\n",
      "3\n",
      "3\n",
      "3\n"
     ]
    }
   ],
   "source": [
    "for query in queries:\n",
    "    print(len(query.split()))"
   ]
  },
  {
   "cell_type": "code",
   "execution_count": null,
   "id": "f0f9f81b-b104-4247-a430-3830468de4c8",
   "metadata": {},
   "outputs": [],
   "source": [
    "words = {}\n",
    "for query in queries:\n",
    "   list  = print(len(query.split()))\n",
    "if list in words:\n",
    "    \n",
    "    \n",
    "    "
   ]
  }
 ],
 "metadata": {
  "kernelspec": {
   "display_name": "Python 3 (ipykernel)",
   "language": "python",
   "name": "python3"
  },
  "language_info": {
   "codemirror_mode": {
    "name": "ipython",
    "version": 3
   },
   "file_extension": ".py",
   "mimetype": "text/x-python",
   "name": "python",
   "nbconvert_exporter": "python",
   "pygments_lexer": "ipython3",
   "version": "3.12.4"
  }
 },
 "nbformat": 4,
 "nbformat_minor": 5
}
