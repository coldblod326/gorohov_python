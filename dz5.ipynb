{
 "cells": [
  {
   "cell_type": "code",
   "execution_count": 1,
   "id": "ac9f7f72-24d0-4a95-a010-02cae29436ae",
   "metadata": {},
   "outputs": [
    {
     "name": "stdout",
     "output_type": "stream",
     "text": [
      "The Moscow Times: 2002-10-02 00:00:00\n",
      "The Guardian: 2013-10-11 00:00:00\n",
      "Daily News: 1977-08-18 00:00:00\n"
     ]
    }
   ],
   "source": [
    "from datetime import datetime\n",
    "dates = [\n",
    "    (\"The Moscow Times\", \"Wednesday, October 2, 2002\", \"%A, %B %d, %Y\"),\n",
    "    (\"The Guardian\", \"Friday, 11.10.13\", \"%A, %d.%m.%y\"),\n",
    "    (\"Daily News\", \"Thursday, 18 August 1977\", \"%A, %d %B %Y\")\n",
    "]\n",
    "\n",
    "for newspaper, date_str, date_format in dates:\n",
    "    date_obj = datetime.strptime(date_str, date_format)\n",
    "    print(f\"{newspaper}: {date_obj}\")"
   ]
  },
  {
   "cell_type": "markdown",
   "id": "a8d42c4a-9340-4e23-87d8-3a0ee83e2c21",
   "metadata": {},
   "source": [
    "Задание 2 (необязательное)\n",
    "\n",
    "Напишите функцию date_range, которая возвращает список дат за период от start_date до end_date. Даты должны вводиться в формате yyyy-mm-dd. В случае неверного формата или при start_date > end_date должен возвращаться пустой список.\n",
    "\n",
    "Примеры работы программы:\n",
    "date_range(‘2022-01-01’, ‘2022-01-03’)\n",
    "[‘2022-01-01’, ‘2022-01-02’, ‘2022-01-03’]"
   ]
  },
  {
   "cell_type": "code",
   "execution_count": 43,
   "id": "7418b04b-9f9d-4d42-baec-05db599e7cdb",
   "metadata": {},
   "outputs": [
    {
     "name": "stdout",
     "output_type": "stream",
     "text": [
      "['2022-01-01', '2022-01-02', '2022-01-03', '2022-01-04', '2022-01-05', '2022-01-06']\n"
     ]
    }
   ],
   "source": [
    "from datetime import datetime, timedelta\n",
    "\n",
    "def date_range(start_date, end_date):\n",
    "    \"\"\"Выводит все даты от начальной до конечной. \n",
    "    При неправильном формате или если start_date > end_date — возвращает пустой список.\"\"\"\n",
    "    try:\n",
    "        start = datetime.strptime(start_date, '%Y-%m-%d')\n",
    "        end = datetime.strptime(end_date, '%Y-%m-%d')\n",
    "\n",
    "        if start > end:\n",
    "            return []\n",
    "\n",
    "        dates = []\n",
    "        x = start\n",
    "        while x <= end:\n",
    "            dates.append(x.strftime('%Y-%m-%d'))\n",
    "            x += timedelta(days=1)\n",
    "\n",
    "        return dates\n",
    "        \n",
    "    except ValueError:\n",
    "    \n",
    "        return []\n",
    "\n",
    "\n",
    "print(date_range('2022-01-01', '2022-01-06'))"
   ]
  },
  {
   "cell_type": "code",
   "execution_count": null,
   "id": "00dd080c-bb92-405c-ac20-cd1b8d3aaa56",
   "metadata": {},
   "outputs": [],
   "source": []
  },
  {
   "cell_type": "code",
   "execution_count": null,
   "id": "4d02baac-b72d-4574-b590-0640ae41fac4",
   "metadata": {},
   "outputs": [],
   "source": []
  }
 ],
 "metadata": {
  "kernelspec": {
   "display_name": "Python 3 (ipykernel)",
   "language": "python",
   "name": "python3"
  },
  "language_info": {
   "codemirror_mode": {
    "name": "ipython",
    "version": 3
   },
   "file_extension": ".py",
   "mimetype": "text/x-python",
   "name": "python",
   "nbconvert_exporter": "python",
   "pygments_lexer": "ipython3",
   "version": "3.12.4"
  }
 },
 "nbformat": 4,
 "nbformat_minor": 5
}
