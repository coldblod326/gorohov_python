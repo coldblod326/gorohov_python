{
 "cells": [
  {
   "cell_type": "code",
   "execution_count": 9,
   "id": "47b5a86a-d36b-40d8-82c5-6d964899cc6d",
   "metadata": {},
   "outputs": [
    {
     "name": "stdout",
     "output_type": "stream",
     "text": [
      "Номер А222ВС валиден. Регион: 96.\n",
      "Номер не валиден.\n"
     ]
    }
   ],
   "source": [
    "import re\n",
    "\n",
    "def validate_car_number(car_id):\n",
    "    '''функуия проверяет валидность номера РФ'''\n",
    "    \n",
    "    pattern = r'^[АВЕКМНОРСТУХ]{1}\\d{3}[АВЕКМНОРСТУХ]{2}\\d{2,3}$'\n",
    "    \n",
    "    if re.match(pattern, car_id):\n",
    "        number = car_id[:-2]  \n",
    "        region = car_id[-2:]   \n",
    "        return f\"Номер {number} валиден. Регион: {region}.\"\n",
    "    else:\n",
    "        return \"Номер не валиден.\"\n",
    "\n",
    "car_id1 = 'А222ВС96'\n",
    "print(validate_car_number(car_id1))\n",
    "\n",
    "car_id2 = 'АБ22ВВ193'\n",
    "print(validate_car_number(car_id2))\n",
    "\n",
    "my_car = 'С034ОР62'\n",
    "print(validate_car_number(car_i))"
   ]
  },
  {
   "cell_type": "code",
   "execution_count": null,
   "id": "336b70d3-3cb8-4099-bcea-79f52522e06d",
   "metadata": {},
   "outputs": [],
   "source": []
  }
 ],
 "metadata": {
  "kernelspec": {
   "display_name": "Python 3 (ipykernel)",
   "language": "python",
   "name": "python3"
  },
  "language_info": {
   "codemirror_mode": {
    "name": "ipython",
    "version": 3
   },
   "file_extension": ".py",
   "mimetype": "text/x-python",
   "name": "python",
   "nbconvert_exporter": "python",
   "pygments_lexer": "ipython3",
   "version": "3.12.4"
  }
 },
 "nbformat": 4,
 "nbformat_minor": 5
}
