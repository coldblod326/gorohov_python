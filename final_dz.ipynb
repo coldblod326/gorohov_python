{
 "cells": [
  {
   "cell_type": "code",
   "execution_count": 7,
   "id": "01c56f76-34e5-44de-9a9a-28aef4f286f4",
   "metadata": {},
   "outputs": [],
   "source": [
    "import pandas as pd "
   ]
  },
  {
   "cell_type": "markdown",
   "id": "3099478b-6129-4da6-96ad-b145e9db823a",
   "metadata": {},
   "source": [
    "Задание\n",
    "Есть мнение: раньше снимали настоящее кино, не то что сейчас. Ваша задача — проверить это утверждение, используя файлы с рейтингами фильмов movies_stats.csv. То есть проверить, верно ли, что с ростом года выпуска фильма средний рейтинг становится ниже.\n",
    "\n",
    "При этом мы не будем затрагивать субъективные факторы этих рейтингов, а пройдёмся по следующему алгоритму:\n",
    "\n",
    "В переменную years запишите список из всех годов с 1950-го по 2010-й.\n",
    "\n",
    "Напишите функцию production_year, которая каждой строке из названия фильма выставляет год выпуска (год выпуска берём из столбца title). Не все названия фильмов содержат год выпуска в одинаковом формате, поэтому используйте следующий алгоритм:\n",
    "\n",
    "для каждой строки пройдите по всем годам списка years;\n",
    "если номер года присутствует в названии фильма, то функция возвращает этот год как год выпуска;\n",
    "если ни один из номеров года списка years не встретился в названии фильма, то возвращается 1900 год.\n",
    "Запишите год выпуска фильма по алгоритму пункта 2 в новый столбец ‘year’.\n",
    "\n",
    "Посчитайте средний рейтинг всех фильмов для каждого значения столбца ‘year’ и отсортируйте результат по убыванию рейтинга."
   ]
  },
  {
   "cell_type": "code",
   "execution_count": 7,
   "id": "06c3a8c0-40b9-444a-b47f-2f60eada2094",
   "metadata": {},
   "outputs": [
    {
     "name": "stdout",
     "output_type": "stream",
     "text": [
      "    year    rating\n",
      "8   1957  4.014241\n",
      "23  1972  4.011136\n",
      "3   1952  4.000000\n",
      "5   1954  3.994220\n",
      "2   1951  3.983539\n",
      "..   ...       ...\n",
      "56  2005  3.448434\n",
      "54  2003  3.444777\n",
      "47  1996  3.426600\n",
      "48  1997  3.415764\n",
      "51  2000  3.356104\n",
      "\n",
      "[62 rows x 2 columns]\n"
     ]
    }
   ],
   "source": [
    "movies_df = pd.read_csv('movies_stats.csv')\n",
    "years = list(range(1950, 2011))\n",
    "\n",
    "\n",
    "def production_year(title):\n",
    "    \"\"\"Функция для определения года выпуска по названию фильма\"\"\"\n",
    "    \n",
    "    for year in years:\n",
    "        if str(year) in title:\n",
    "            return year\n",
    "    return 1900\n",
    "\n",
    "movies_df['year'] = movies_df['title'].apply(production_year)\n",
    "\n",
    "average_ratings = movies_df.groupby('year')['rating'].mean().reset_index()\n",
    "\n",
    "average_ratings_sorted = average_ratings.sort_values(by='rating', ascending=False)\n",
    "\n",
    "movies_df.to_csv('movies_with_year.csv', index=False)\n",
    "\n",
    "print(average_ratings_sorted)\n",
    "\n",
    "average_ratings = movies_df.groupby('year')['rating'].mean().reset_index()\n",
    "\n",
    "average_ratings.to_csv('average_ratings_by_year.csv', index=False)"
   ]
  },
  {
   "cell_type": "code",
   "execution_count": null,
   "id": "b670076f-2a68-4f87-89c6-8f1e493411e3",
   "metadata": {},
   "outputs": [],
   "source": []
  }
 ],
 "metadata": {
  "kernelspec": {
   "display_name": "Python 3 (ipykernel)",
   "language": "python",
   "name": "python3"
  },
  "language_info": {
   "codemirror_mode": {
    "name": "ipython",
    "version": 3
   },
   "file_extension": ".py",
   "mimetype": "text/x-python",
   "name": "python",
   "nbconvert_exporter": "python",
   "pygments_lexer": "ipython3",
   "version": "3.13.0"
  }
 },
 "nbformat": 4,
 "nbformat_minor": 5
}
