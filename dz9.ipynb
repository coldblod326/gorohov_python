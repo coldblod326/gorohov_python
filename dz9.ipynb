{
 "cells": [
  {
   "cell_type": "code",
   "execution_count": 16,
   "id": "57ca4018-e4bf-4821-8051-66331013c090",
   "metadata": {},
   "outputs": [
    {
     "name": "stdout",
     "output_type": "stream",
     "text": [
      "   movieId                               title            class\n",
      "0        1                    Toy Story (1995)  средний рейтинг\n",
      "1        2                      Jumanji (1995)  средний рейтинг\n",
      "2        3             Grumpier Old Men (1995)  средний рейтинг\n",
      "3        4            Waiting to Exhale (1995)  средний рейтинг\n",
      "4        5  Father of the Bride Part II (1995)  средний рейтинг\n"
     ]
    }
   ],
   "source": [
    "import pandas as pd\n",
    "\n",
    "movies_df = pd.read_csv('movies.csv', usecols=['movieId', 'title'])\n",
    "ratings_df = pd.read_csv('ratings.csv', usecols=['movieId', 'rating'])\n",
    "\n",
    "average_ratings = ratings_df.groupby('movieId')['rating'].mean().reset_index()\n",
    "\n",
    "def classify_rating(rating):\n",
    "    \"\"\"Классификация фильмов по среднему рейтингу\"\"\"\n",
    "    if rating <= 2:\n",
    "        return 'низкий рейтинг'\n",
    "    elif rating <= 4:\n",
    "        return 'средний рейтинг'\n",
    "    elif rating >= 4.5:\n",
    "        return 'высокий рейтинг'\n",
    "\n",
    "average_ratings['class'] = average_ratings['rating'].apply(classify_rating)\n",
    "\n",
    "movies_classified = movies_df.merge(average_ratings[['movieId', 'class']], on='movieId', how='left')\n",
    "\n",
    "movies_classified['class'] = movies_classified['class'].fillna(\"нет данных оценок\")\n",
    "\n",
    "movies_classified.to_csv('movies_classified.csv', index=False)\n",
    "\n",
    "print(movies_classified.head())"
   ]
  },
  {
   "cell_type": "code",
   "execution_count": null,
   "id": "1b1daff4-065f-4730-8874-92fa338fdb5a",
   "metadata": {},
   "outputs": [],
   "source": []
  }
 ],
 "metadata": {
  "kernelspec": {
   "display_name": "Python 3 (ipykernel)",
   "language": "python",
   "name": "python3"
  },
  "language_info": {
   "codemirror_mode": {
    "name": "ipython",
    "version": 3
   },
   "file_extension": ".py",
   "mimetype": "text/x-python",
   "name": "python",
   "nbconvert_exporter": "python",
   "pygments_lexer": "ipython3",
   "version": "3.12.4"
  }
 },
 "nbformat": 4,
 "nbformat_minor": 5
}
