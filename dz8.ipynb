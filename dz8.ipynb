{
 "cells": [
  {
   "cell_type": "code",
   "execution_count": 1,
   "id": "b6c67ff9-9ad8-4580-b094-45c22ee1d6ea",
   "metadata": {},
   "outputs": [
    {
     "name": "stdout",
     "output_type": "stream",
     "text": [
      "                              title  5_star_count\n",
      "0  Shawshank Redemption, The (1994)           153\n"
     ]
    }
   ],
   "source": [
    "import pandas as pd\n",
    "\n",
    "movies_df = pd.read_csv('movies.csv')\n",
    "ratings_df = pd.read_csv('ratings.csv')\n",
    "\n",
    "ratings_5 = ratings_df[ratings_df['rating'] == 5.0]\n",
    "\n",
    "movie_5_ratings_count = ratings_5.groupby('movieId').size().reset_index(name='5_star_count')\n",
    "\n",
    "top_movie = movie_5_ratings_count.sort_values(by='5_star_count', ascending=False).head(1)\n",
    "\n",
    "top_movie_info = pd.merge(top_movie, movies_df, on='movieId')\n",
    "\n",
    "print(top_movie_info[['title', '5_star_count']])"
   ]
  },
  {
   "cell_type": "code",
   "execution_count": null,
   "id": "e911f44b-76ac-4485-87a1-270066273daf",
   "metadata": {},
   "outputs": [],
   "source": []
  }
 ],
 "metadata": {
  "kernelspec": {
   "display_name": "Python 3 (ipykernel)",
   "language": "python",
   "name": "python3"
  },
  "language_info": {
   "codemirror_mode": {
    "name": "ipython",
    "version": 3
   },
   "file_extension": ".py",
   "mimetype": "text/x-python",
   "name": "python",
   "nbconvert_exporter": "python",
   "pygments_lexer": "ipython3",
   "version": "3.12.4"
  }
 },
 "nbformat": 4,
 "nbformat_minor": 5
}
